{
 "cells": [
  {
   "cell_type": "code",
   "execution_count": 2,
   "id": "b06df8b4",
   "metadata": {},
   "outputs": [],
   "source": [
    "import pandas as pd\n",
    "import spacy\n",
    "import random\n",
    "\n",
    "\n",
    "nlp = spacy.load(\"en_core_web_md\")"
   ]
  },
  {
   "cell_type": "code",
   "execution_count": 9,
   "id": "6a7a7c61",
   "metadata": {},
   "outputs": [
    {
     "name": "stdout",
     "output_type": "stream",
     "text": [
      "0 - Weekly sync with the manager on February 2nd from 18:01 to 18:46: ['ADJ', 'NOUN', 'ADP', 'DET', 'NOUN', 'ADP', 'PROPN', 'NOUN', 'ADP', 'NUM', 'ADP', 'NUM']\n",
      "1 - Organize in One on one catch up on today from 15:53 to 16:46: ['VERB', 'ADP', 'NUM', 'ADP', 'NUM', 'NOUN', 'ADP', 'ADP', 'NOUN', 'ADP', 'NUM', 'ADP', 'NUM']\n",
      "2 - Backstage tour VIP pass on the app on today from 01:32 to 02:02: ['NOUN', 'NOUN', 'NOUN', 'VERB', 'ADP', 'DET', 'NOUN', 'ADP', 'NOUN', 'ADP', 'NUM', 'ADP', 'NUM']\n",
      "3 - Build for Fireworks on December 31st from 09:27 to 11:27: ['VERB', 'ADP', 'PROPN', 'ADP', 'PROPN', 'NOUN', 'ADP', 'NUM', 'ADP', 'NUM']\n",
      "4 - Mark to API design discussion on July 15th from 16:26 to 17:26: ['PROPN', 'ADP', 'NOUN', 'NOUN', 'NOUN', 'ADP', 'PROPN', 'NOUN', 'ADP', 'NUM', 'ADP', 'NUM']\n",
      "5 - Put in Voice assistant training on today from 22:56 to 23:36: ['VERB', 'ADP', 'PROPN', 'NOUN', 'NOUN', 'ADP', 'NOUN', 'ADP', 'NUM', 'ADP', 'NUM']\n",
      "6 - Add at Cross team check in on today from 13:52 to 14:24: ['VERB', 'ADP', 'PROPN', 'NOUN', 'VERB', 'ADP', 'ADP', 'NOUN', 'ADP', 'NUM', 'ADP', 'NUM']\n",
      "7 - Record with David Guetta DJ set on June 21st from 18:36 to 19:06: ['NOUN', 'ADP', 'PROPN', 'PROPN', 'PROPN', 'NOUN', 'ADP', 'PROPN', 'NOUN', 'ADP', 'NUM', 'ADP', 'NUM']\n",
      "8 - Set up on Budget planning on today from 23:12 to 23:58: ['VERB', 'ADP', 'ADP', 'PROPN', 'NOUN', 'ADP', 'NOUN', 'ADP', 'NUM', 'ADP', 'NUM']\n",
      "9 - DevOps monitoring review for Friday on May 5th from 20:18 to 21:48: ['PROPN', 'NOUN', 'NOUN', 'ADP', 'PROPN', 'ADP', 'PROPN', 'NOUN', 'ADP', 'NUM', 'ADP', 'NUM']\n",
      "10 - Silent disco party for the afternoon on March 8th from 05:10 to 05:25: ['ADJ', 'PROPN', 'NOUN', 'ADP', 'DET', 'NOUN', 'ADP', 'PROPN', 'NOUN', 'ADP', 'NUM', 'ADP', 'NUM']\n",
      "11 - Budget planning for Monday on today from 20:29 to 21:34: ['PROPN', 'NOUN', 'ADP', 'PROPN', 'ADP', 'NOUN', 'ADP', 'NUM', 'ADP', 'NUM']\n",
      "12 - Draft for AI ethics seminar on today from 15:19 to 16:41: ['VERB', 'ADP', 'PROPN', 'NOUN', 'NOUN', 'ADP', 'NOUN', 'ADP', 'NUM', 'ADP', 'NUM']\n",
      "13 - David Guetta DJ set to the calendar on today from 17:40 to 19:40: ['PROPN', 'PROPN', 'PROPN', 'NOUN', 'ADP', 'DET', 'NOUN', 'ADP', 'NOUN', 'ADP', 'NUM', 'ADP', 'NUM']\n",
      "14 - Data cleanup task for the morning on today from 10:37 to 11:30: ['PROPN', 'NOUN', 'NOUN', 'ADP', 'DET', 'NOUN', 'ADP', 'NOUN', 'ADP', 'NUM', 'ADP', 'NUM']\n",
      "15 - Book to Deep cleaning the kitchen on January 15th from 09:53 to 11:53: ['NOUN', 'ADP', 'ADJ', 'VERB', 'DET', 'NOUN', 'ADP', 'PROPN', 'NOUN', 'ADP', 'NUM', 'ADP', 'NUM']\n",
      "16 - Site accessibility audit with the manager on today from 04:08 to 05:04: ['NOUN', 'NOUN', 'NOUN', 'ADP', 'DET', 'NOUN', 'ADP', 'NOUN', 'ADP', 'NUM', 'ADP', 'NUM']\n",
      "17 - Create in Project review meeting on today from 21:15 to 22:13: ['VERB', 'ADP', 'PROPN', 'NOUN', 'NOUN', 'ADP', 'NOUN', 'ADP', 'NUM', 'ADP', 'NUM']\n",
      "18 - Fix with Budget planning on today from 05:26 to 06:03: ['VERB', 'ADP', 'PROPN', 'NOUN', 'ADP', 'NOUN', 'ADP', 'NUM', 'ADP', 'NUM']\n",
      "19 - Cross team check in for the team on today from 23:06 to 23:35: ['NOUN', 'NOUN', 'VERB', 'ADP', 'ADP', 'DET', 'NOUN', 'ADP', 'NOUN', 'ADP', 'NUM', 'ADP', 'NUM']\n",
      "Doc: I have to finih this model - Tags: ['PRON', 'VERB', 'PART', 'VERB', 'DET', 'NOUN']\n"
     ]
    }
   ],
   "source": [
    "def get_tags(filename='/Users/jaceysimpson/Vscode/task-classification-LLM/data/aug_TIM.csv'):\n",
    "    data = pd.read_csv(filename)\n",
    "    random_texts = random.sample(list(data['full_text']), 20)\n",
    "\n",
    "    tags = []\n",
    "    for text in random_texts:\n",
    "        doc = nlp(text)\n",
    "        single_text_tags = []\n",
    "        for token in doc:\n",
    "            single_text_tags.append(token.pos_)\n",
    "        tags.append((text, single_text_tags))\n",
    "    \n",
    "    return tags\n",
    "\n",
    "tags = get_tags()\n",
    "for i, tag in enumerate(tags):\n",
    "    print(f\"{i} - {tag[0]}: {tag[1]}\")\n",
    "\n",
    "doc = nlp(\"I have to finih this model\")\n",
    "tags = []\n",
    "for token in doc:\n",
    "    tags.append(token.pos_)\n",
    "print(f\"Doc: {doc.text} - Tags: {tags}\")\n"
   ]
  }
 ],
 "metadata": {
  "kernelspec": {
   "display_name": ".venv",
   "language": "python",
   "name": "python3"
  },
  "language_info": {
   "codemirror_mode": {
    "name": "ipython",
    "version": 3
   },
   "file_extension": ".py",
   "mimetype": "text/x-python",
   "name": "python",
   "nbconvert_exporter": "python",
   "pygments_lexer": "ipython3",
   "version": "3.10.0"
  }
 },
 "nbformat": 4,
 "nbformat_minor": 5
}
